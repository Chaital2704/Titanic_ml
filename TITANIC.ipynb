{
  "nbformat": 4,
  "nbformat_minor": 0,
  "metadata": {
    "colab": {
      "provenance": []
    },
    "kernelspec": {
      "name": "python3",
      "display_name": "Python 3"
    },
    "language_info": {
      "name": "python"
    }
  },
  "cells": [
    {
      "cell_type": "code",
      "execution_count": 1,
      "metadata": {
        "colab": {
          "base_uri": "https://localhost:8080/"
        },
        "id": "6FuCh1fC9YmT",
        "outputId": "221945d6-c6aa-46ef-fc9a-abb50778116f"
      },
      "outputs": [
        {
          "output_type": "stream",
          "name": "stdout",
          "text": [
            "Mounted at /content/drive\n"
          ]
        }
      ],
      "source": [
        "from google.colab import drive\n",
        "drive.mount('/content/drive')"
      ]
    },
    {
      "cell_type": "code",
      "source": [
        "import warnings\n",
        "\n",
        "import numpy as np\n",
        "import pandas as pd\n",
        "\n",
        "import matplotlib.pyplot as plt\n",
        "import seaborn as sns\n",
        "\n",
        "from sklearn.model_selection import train_test_split\n",
        "\n",
        "from sklearn.metrics import accuracy_score, confusion_matrix, classification_report\n",
        "from sklearn import datasets, linear_model, metrics\n",
        "from sklearn.model_selection import cross_val_score as cross_val_score_inbuilt\n",
        "\n",
        "from statistics import mean\n",
        "from statistics import stdev\n",
        "import math\n",
        "\n",
        "from sklearn.tree import DecisionTreeClassifier"
      ],
      "metadata": {
        "id": "QI-W94229jIc"
      },
      "execution_count": 2,
      "outputs": []
    },
    {
      "cell_type": "code",
      "source": [
        "sns.set_style(\"darkgrid\")"
      ],
      "metadata": {
        "id": "TGDtM2gv9v4T"
      },
      "execution_count": 3,
      "outputs": []
    },
    {
      "cell_type": "code",
      "source": [
        "warnings.filterwarnings('ignore')"
      ],
      "metadata": {
        "id": "amv7ITR19w3m"
      },
      "execution_count": 4,
      "outputs": []
    },
    {
      "cell_type": "code",
      "source": [
        "dataset= pd.read_csv('/content/drive/MyDrive/PRML_files/titanic.csv')"
      ],
      "metadata": {
        "id": "oRUdDyx-9zE_"
      },
      "execution_count": 6,
      "outputs": []
    },
    {
      "cell_type": "code",
      "source": [
        "dataset.head()"
      ],
      "metadata": {
        "colab": {
          "base_uri": "https://localhost:8080/",
          "height": 276
        },
        "id": "ts1D6R7z-bhh",
        "outputId": "61fcfa86-7298-4345-d6c6-47e5d9b228f8"
      },
      "execution_count": 7,
      "outputs": [
        {
          "output_type": "execute_result",
          "data": {
            "text/plain": [
              "   PassengerId  Survived  Pclass  \\\n",
              "0            1         0       3   \n",
              "1            2         1       1   \n",
              "2            3         1       3   \n",
              "3            4         1       1   \n",
              "4            5         0       3   \n",
              "\n",
              "                                                Name     Sex   Age  SibSp  \\\n",
              "0                            Braund, Mr. Owen Harris    male  22.0      1   \n",
              "1  Cumings, Mrs. John Bradley (Florence Briggs Th...  female  38.0      1   \n",
              "2                             Heikkinen, Miss. Laina  female  26.0      0   \n",
              "3       Futrelle, Mrs. Jacques Heath (Lily May Peel)  female  35.0      1   \n",
              "4                           Allen, Mr. William Henry    male  35.0      0   \n",
              "\n",
              "   Parch            Ticket     Fare Cabin Embarked  \n",
              "0      0         A/5 21171   7.2500   NaN        S  \n",
              "1      0          PC 17599  71.2833   C85        C  \n",
              "2      0  STON/O2. 3101282   7.9250   NaN        S  \n",
              "3      0            113803  53.1000  C123        S  \n",
              "4      0            373450   8.0500   NaN        S  "
            ],
            "text/html": [
              "\n",
              "  <div id=\"df-1230e3a1-9655-494f-848c-ac89aa15cdf5\" class=\"colab-df-container\">\n",
              "    <div>\n",
              "<style scoped>\n",
              "    .dataframe tbody tr th:only-of-type {\n",
              "        vertical-align: middle;\n",
              "    }\n",
              "\n",
              "    .dataframe tbody tr th {\n",
              "        vertical-align: top;\n",
              "    }\n",
              "\n",
              "    .dataframe thead th {\n",
              "        text-align: right;\n",
              "    }\n",
              "</style>\n",
              "<table border=\"1\" class=\"dataframe\">\n",
              "  <thead>\n",
              "    <tr style=\"text-align: right;\">\n",
              "      <th></th>\n",
              "      <th>PassengerId</th>\n",
              "      <th>Survived</th>\n",
              "      <th>Pclass</th>\n",
              "      <th>Name</th>\n",
              "      <th>Sex</th>\n",
              "      <th>Age</th>\n",
              "      <th>SibSp</th>\n",
              "      <th>Parch</th>\n",
              "      <th>Ticket</th>\n",
              "      <th>Fare</th>\n",
              "      <th>Cabin</th>\n",
              "      <th>Embarked</th>\n",
              "    </tr>\n",
              "  </thead>\n",
              "  <tbody>\n",
              "    <tr>\n",
              "      <th>0</th>\n",
              "      <td>1</td>\n",
              "      <td>0</td>\n",
              "      <td>3</td>\n",
              "      <td>Braund, Mr. Owen Harris</td>\n",
              "      <td>male</td>\n",
              "      <td>22.0</td>\n",
              "      <td>1</td>\n",
              "      <td>0</td>\n",
              "      <td>A/5 21171</td>\n",
              "      <td>7.2500</td>\n",
              "      <td>NaN</td>\n",
              "      <td>S</td>\n",
              "    </tr>\n",
              "    <tr>\n",
              "      <th>1</th>\n",
              "      <td>2</td>\n",
              "      <td>1</td>\n",
              "      <td>1</td>\n",
              "      <td>Cumings, Mrs. John Bradley (Florence Briggs Th...</td>\n",
              "      <td>female</td>\n",
              "      <td>38.0</td>\n",
              "      <td>1</td>\n",
              "      <td>0</td>\n",
              "      <td>PC 17599</td>\n",
              "      <td>71.2833</td>\n",
              "      <td>C85</td>\n",
              "      <td>C</td>\n",
              "    </tr>\n",
              "    <tr>\n",
              "      <th>2</th>\n",
              "      <td>3</td>\n",
              "      <td>1</td>\n",
              "      <td>3</td>\n",
              "      <td>Heikkinen, Miss. Laina</td>\n",
              "      <td>female</td>\n",
              "      <td>26.0</td>\n",
              "      <td>0</td>\n",
              "      <td>0</td>\n",
              "      <td>STON/O2. 3101282</td>\n",
              "      <td>7.9250</td>\n",
              "      <td>NaN</td>\n",
              "      <td>S</td>\n",
              "    </tr>\n",
              "    <tr>\n",
              "      <th>3</th>\n",
              "      <td>4</td>\n",
              "      <td>1</td>\n",
              "      <td>1</td>\n",
              "      <td>Futrelle, Mrs. Jacques Heath (Lily May Peel)</td>\n",
              "      <td>female</td>\n",
              "      <td>35.0</td>\n",
              "      <td>1</td>\n",
              "      <td>0</td>\n",
              "      <td>113803</td>\n",
              "      <td>53.1000</td>\n",
              "      <td>C123</td>\n",
              "      <td>S</td>\n",
              "    </tr>\n",
              "    <tr>\n",
              "      <th>4</th>\n",
              "      <td>5</td>\n",
              "      <td>0</td>\n",
              "      <td>3</td>\n",
              "      <td>Allen, Mr. William Henry</td>\n",
              "      <td>male</td>\n",
              "      <td>35.0</td>\n",
              "      <td>0</td>\n",
              "      <td>0</td>\n",
              "      <td>373450</td>\n",
              "      <td>8.0500</td>\n",
              "      <td>NaN</td>\n",
              "      <td>S</td>\n",
              "    </tr>\n",
              "  </tbody>\n",
              "</table>\n",
              "</div>\n",
              "    <div class=\"colab-df-buttons\">\n",
              "\n",
              "  <div class=\"colab-df-container\">\n",
              "    <button class=\"colab-df-convert\" onclick=\"convertToInteractive('df-1230e3a1-9655-494f-848c-ac89aa15cdf5')\"\n",
              "            title=\"Convert this dataframe to an interactive table.\"\n",
              "            style=\"display:none;\">\n",
              "\n",
              "  <svg xmlns=\"http://www.w3.org/2000/svg\" height=\"24px\" viewBox=\"0 -960 960 960\">\n",
              "    <path d=\"M120-120v-720h720v720H120Zm60-500h600v-160H180v160Zm220 220h160v-160H400v160Zm0 220h160v-160H400v160ZM180-400h160v-160H180v160Zm440 0h160v-160H620v160ZM180-180h160v-160H180v160Zm440 0h160v-160H620v160Z\"/>\n",
              "  </svg>\n",
              "    </button>\n",
              "\n",
              "  <style>\n",
              "    .colab-df-container {\n",
              "      display:flex;\n",
              "      gap: 12px;\n",
              "    }\n",
              "\n",
              "    .colab-df-convert {\n",
              "      background-color: #E8F0FE;\n",
              "      border: none;\n",
              "      border-radius: 50%;\n",
              "      cursor: pointer;\n",
              "      display: none;\n",
              "      fill: #1967D2;\n",
              "      height: 32px;\n",
              "      padding: 0 0 0 0;\n",
              "      width: 32px;\n",
              "    }\n",
              "\n",
              "    .colab-df-convert:hover {\n",
              "      background-color: #E2EBFA;\n",
              "      box-shadow: 0px 1px 2px rgba(60, 64, 67, 0.3), 0px 1px 3px 1px rgba(60, 64, 67, 0.15);\n",
              "      fill: #174EA6;\n",
              "    }\n",
              "\n",
              "    .colab-df-buttons div {\n",
              "      margin-bottom: 4px;\n",
              "    }\n",
              "\n",
              "    [theme=dark] .colab-df-convert {\n",
              "      background-color: #3B4455;\n",
              "      fill: #D2E3FC;\n",
              "    }\n",
              "\n",
              "    [theme=dark] .colab-df-convert:hover {\n",
              "      background-color: #434B5C;\n",
              "      box-shadow: 0px 1px 3px 1px rgba(0, 0, 0, 0.15);\n",
              "      filter: drop-shadow(0px 1px 2px rgba(0, 0, 0, 0.3));\n",
              "      fill: #FFFFFF;\n",
              "    }\n",
              "  </style>\n",
              "\n",
              "    <script>\n",
              "      const buttonEl =\n",
              "        document.querySelector('#df-1230e3a1-9655-494f-848c-ac89aa15cdf5 button.colab-df-convert');\n",
              "      buttonEl.style.display =\n",
              "        google.colab.kernel.accessAllowed ? 'block' : 'none';\n",
              "\n",
              "      async function convertToInteractive(key) {\n",
              "        const element = document.querySelector('#df-1230e3a1-9655-494f-848c-ac89aa15cdf5');\n",
              "        const dataTable =\n",
              "          await google.colab.kernel.invokeFunction('convertToInteractive',\n",
              "                                                    [key], {});\n",
              "        if (!dataTable) return;\n",
              "\n",
              "        const docLinkHtml = 'Like what you see? Visit the ' +\n",
              "          '<a target=\"_blank\" href=https://colab.research.google.com/notebooks/data_table.ipynb>data table notebook</a>'\n",
              "          + ' to learn more about interactive tables.';\n",
              "        element.innerHTML = '';\n",
              "        dataTable['output_type'] = 'display_data';\n",
              "        await google.colab.output.renderOutput(dataTable, element);\n",
              "        const docLink = document.createElement('div');\n",
              "        docLink.innerHTML = docLinkHtml;\n",
              "        element.appendChild(docLink);\n",
              "      }\n",
              "    </script>\n",
              "  </div>\n",
              "\n",
              "\n",
              "<div id=\"df-c632cd9c-fd55-4132-a992-d8449ce5504a\">\n",
              "  <button class=\"colab-df-quickchart\" onclick=\"quickchart('df-c632cd9c-fd55-4132-a992-d8449ce5504a')\"\n",
              "            title=\"Suggest charts\"\n",
              "            style=\"display:none;\">\n",
              "\n",
              "<svg xmlns=\"http://www.w3.org/2000/svg\" height=\"24px\"viewBox=\"0 0 24 24\"\n",
              "     width=\"24px\">\n",
              "    <g>\n",
              "        <path d=\"M19 3H5c-1.1 0-2 .9-2 2v14c0 1.1.9 2 2 2h14c1.1 0 2-.9 2-2V5c0-1.1-.9-2-2-2zM9 17H7v-7h2v7zm4 0h-2V7h2v10zm4 0h-2v-4h2v4z\"/>\n",
              "    </g>\n",
              "</svg>\n",
              "  </button>\n",
              "\n",
              "<style>\n",
              "  .colab-df-quickchart {\n",
              "      --bg-color: #E8F0FE;\n",
              "      --fill-color: #1967D2;\n",
              "      --hover-bg-color: #E2EBFA;\n",
              "      --hover-fill-color: #174EA6;\n",
              "      --disabled-fill-color: #AAA;\n",
              "      --disabled-bg-color: #DDD;\n",
              "  }\n",
              "\n",
              "  [theme=dark] .colab-df-quickchart {\n",
              "      --bg-color: #3B4455;\n",
              "      --fill-color: #D2E3FC;\n",
              "      --hover-bg-color: #434B5C;\n",
              "      --hover-fill-color: #FFFFFF;\n",
              "      --disabled-bg-color: #3B4455;\n",
              "      --disabled-fill-color: #666;\n",
              "  }\n",
              "\n",
              "  .colab-df-quickchart {\n",
              "    background-color: var(--bg-color);\n",
              "    border: none;\n",
              "    border-radius: 50%;\n",
              "    cursor: pointer;\n",
              "    display: none;\n",
              "    fill: var(--fill-color);\n",
              "    height: 32px;\n",
              "    padding: 0;\n",
              "    width: 32px;\n",
              "  }\n",
              "\n",
              "  .colab-df-quickchart:hover {\n",
              "    background-color: var(--hover-bg-color);\n",
              "    box-shadow: 0 1px 2px rgba(60, 64, 67, 0.3), 0 1px 3px 1px rgba(60, 64, 67, 0.15);\n",
              "    fill: var(--button-hover-fill-color);\n",
              "  }\n",
              "\n",
              "  .colab-df-quickchart-complete:disabled,\n",
              "  .colab-df-quickchart-complete:disabled:hover {\n",
              "    background-color: var(--disabled-bg-color);\n",
              "    fill: var(--disabled-fill-color);\n",
              "    box-shadow: none;\n",
              "  }\n",
              "\n",
              "  .colab-df-spinner {\n",
              "    border: 2px solid var(--fill-color);\n",
              "    border-color: transparent;\n",
              "    border-bottom-color: var(--fill-color);\n",
              "    animation:\n",
              "      spin 1s steps(1) infinite;\n",
              "  }\n",
              "\n",
              "  @keyframes spin {\n",
              "    0% {\n",
              "      border-color: transparent;\n",
              "      border-bottom-color: var(--fill-color);\n",
              "      border-left-color: var(--fill-color);\n",
              "    }\n",
              "    20% {\n",
              "      border-color: transparent;\n",
              "      border-left-color: var(--fill-color);\n",
              "      border-top-color: var(--fill-color);\n",
              "    }\n",
              "    30% {\n",
              "      border-color: transparent;\n",
              "      border-left-color: var(--fill-color);\n",
              "      border-top-color: var(--fill-color);\n",
              "      border-right-color: var(--fill-color);\n",
              "    }\n",
              "    40% {\n",
              "      border-color: transparent;\n",
              "      border-right-color: var(--fill-color);\n",
              "      border-top-color: var(--fill-color);\n",
              "    }\n",
              "    60% {\n",
              "      border-color: transparent;\n",
              "      border-right-color: var(--fill-color);\n",
              "    }\n",
              "    80% {\n",
              "      border-color: transparent;\n",
              "      border-right-color: var(--fill-color);\n",
              "      border-bottom-color: var(--fill-color);\n",
              "    }\n",
              "    90% {\n",
              "      border-color: transparent;\n",
              "      border-bottom-color: var(--fill-color);\n",
              "    }\n",
              "  }\n",
              "</style>\n",
              "\n",
              "  <script>\n",
              "    async function quickchart(key) {\n",
              "      const quickchartButtonEl =\n",
              "        document.querySelector('#' + key + ' button');\n",
              "      quickchartButtonEl.disabled = true;  // To prevent multiple clicks.\n",
              "      quickchartButtonEl.classList.add('colab-df-spinner');\n",
              "      try {\n",
              "        const charts = await google.colab.kernel.invokeFunction(\n",
              "            'suggestCharts', [key], {});\n",
              "      } catch (error) {\n",
              "        console.error('Error during call to suggestCharts:', error);\n",
              "      }\n",
              "      quickchartButtonEl.classList.remove('colab-df-spinner');\n",
              "      quickchartButtonEl.classList.add('colab-df-quickchart-complete');\n",
              "    }\n",
              "    (() => {\n",
              "      let quickchartButtonEl =\n",
              "        document.querySelector('#df-c632cd9c-fd55-4132-a992-d8449ce5504a button');\n",
              "      quickchartButtonEl.style.display =\n",
              "        google.colab.kernel.accessAllowed ? 'block' : 'none';\n",
              "    })();\n",
              "  </script>\n",
              "</div>\n",
              "    </div>\n",
              "  </div>\n"
            ],
            "application/vnd.google.colaboratory.intrinsic+json": {
              "type": "dataframe",
              "variable_name": "dataset",
              "summary": "{\n  \"name\": \"dataset\",\n  \"rows\": 891,\n  \"fields\": [\n    {\n      \"column\": \"PassengerId\",\n      \"properties\": {\n        \"dtype\": \"number\",\n        \"std\": 257,\n        \"min\": 1,\n        \"max\": 891,\n        \"num_unique_values\": 891,\n        \"samples\": [\n          710,\n          440,\n          841\n        ],\n        \"semantic_type\": \"\",\n        \"description\": \"\"\n      }\n    },\n    {\n      \"column\": \"Survived\",\n      \"properties\": {\n        \"dtype\": \"number\",\n        \"std\": 0,\n        \"min\": 0,\n        \"max\": 1,\n        \"num_unique_values\": 2,\n        \"samples\": [\n          1,\n          0\n        ],\n        \"semantic_type\": \"\",\n        \"description\": \"\"\n      }\n    },\n    {\n      \"column\": \"Pclass\",\n      \"properties\": {\n        \"dtype\": \"number\",\n        \"std\": 0,\n        \"min\": 1,\n        \"max\": 3,\n        \"num_unique_values\": 3,\n        \"samples\": [\n          3,\n          1\n        ],\n        \"semantic_type\": \"\",\n        \"description\": \"\"\n      }\n    },\n    {\n      \"column\": \"Name\",\n      \"properties\": {\n        \"dtype\": \"string\",\n        \"num_unique_values\": 891,\n        \"samples\": [\n          \"Moubarek, Master. Halim Gonios (\\\"William George\\\")\",\n          \"Kvillner, Mr. Johan Henrik Johannesson\"\n        ],\n        \"semantic_type\": \"\",\n        \"description\": \"\"\n      }\n    },\n    {\n      \"column\": \"Sex\",\n      \"properties\": {\n        \"dtype\": \"category\",\n        \"num_unique_values\": 2,\n        \"samples\": [\n          \"female\",\n          \"male\"\n        ],\n        \"semantic_type\": \"\",\n        \"description\": \"\"\n      }\n    },\n    {\n      \"column\": \"Age\",\n      \"properties\": {\n        \"dtype\": \"number\",\n        \"std\": 14.526497332334042,\n        \"min\": 0.42,\n        \"max\": 80.0,\n        \"num_unique_values\": 88,\n        \"samples\": [\n          0.75,\n          22.0\n        ],\n        \"semantic_type\": \"\",\n        \"description\": \"\"\n      }\n    },\n    {\n      \"column\": \"SibSp\",\n      \"properties\": {\n        \"dtype\": \"number\",\n        \"std\": 1,\n        \"min\": 0,\n        \"max\": 8,\n        \"num_unique_values\": 7,\n        \"samples\": [\n          1,\n          0\n        ],\n        \"semantic_type\": \"\",\n        \"description\": \"\"\n      }\n    },\n    {\n      \"column\": \"Parch\",\n      \"properties\": {\n        \"dtype\": \"number\",\n        \"std\": 0,\n        \"min\": 0,\n        \"max\": 6,\n        \"num_unique_values\": 7,\n        \"samples\": [\n          0,\n          1\n        ],\n        \"semantic_type\": \"\",\n        \"description\": \"\"\n      }\n    },\n    {\n      \"column\": \"Ticket\",\n      \"properties\": {\n        \"dtype\": \"string\",\n        \"num_unique_values\": 681,\n        \"samples\": [\n          \"11774\",\n          \"248740\"\n        ],\n        \"semantic_type\": \"\",\n        \"description\": \"\"\n      }\n    },\n    {\n      \"column\": \"Fare\",\n      \"properties\": {\n        \"dtype\": \"number\",\n        \"std\": 49.6934285971809,\n        \"min\": 0.0,\n        \"max\": 512.3292,\n        \"num_unique_values\": 248,\n        \"samples\": [\n          11.2417,\n          51.8625\n        ],\n        \"semantic_type\": \"\",\n        \"description\": \"\"\n      }\n    },\n    {\n      \"column\": \"Cabin\",\n      \"properties\": {\n        \"dtype\": \"category\",\n        \"num_unique_values\": 147,\n        \"samples\": [\n          \"D45\",\n          \"B49\"\n        ],\n        \"semantic_type\": \"\",\n        \"description\": \"\"\n      }\n    },\n    {\n      \"column\": \"Embarked\",\n      \"properties\": {\n        \"dtype\": \"category\",\n        \"num_unique_values\": 3,\n        \"samples\": [\n          \"S\",\n          \"C\"\n        ],\n        \"semantic_type\": \"\",\n        \"description\": \"\"\n      }\n    }\n  ]\n}"
            }
          },
          "metadata": {},
          "execution_count": 7
        }
      ]
    },
    {
      "cell_type": "code",
      "source": [
        "print(dataset.describe())"
      ],
      "metadata": {
        "colab": {
          "base_uri": "https://localhost:8080/"
        },
        "id": "QOFnNrLg-e8t",
        "outputId": "1892867a-6cb4-45bb-a972-cade6392d12c"
      },
      "execution_count": 8,
      "outputs": [
        {
          "output_type": "stream",
          "name": "stdout",
          "text": [
            "       PassengerId    Survived      Pclass         Age       SibSp  \\\n",
            "count   891.000000  891.000000  891.000000  714.000000  891.000000   \n",
            "mean    446.000000    0.383838    2.308642   29.699118    0.523008   \n",
            "std     257.353842    0.486592    0.836071   14.526497    1.102743   \n",
            "min       1.000000    0.000000    1.000000    0.420000    0.000000   \n",
            "25%     223.500000    0.000000    2.000000   20.125000    0.000000   \n",
            "50%     446.000000    0.000000    3.000000   28.000000    0.000000   \n",
            "75%     668.500000    1.000000    3.000000   38.000000    1.000000   \n",
            "max     891.000000    1.000000    3.000000   80.000000    8.000000   \n",
            "\n",
            "            Parch        Fare  \n",
            "count  891.000000  891.000000  \n",
            "mean     0.381594   32.204208  \n",
            "std      0.806057   49.693429  \n",
            "min      0.000000    0.000000  \n",
            "25%      0.000000    7.910400  \n",
            "50%      0.000000   14.454200  \n",
            "75%      0.000000   31.000000  \n",
            "max      6.000000  512.329200  \n"
          ]
        }
      ]
    },
    {
      "cell_type": "code",
      "source": [
        "print(round(dataset.groupby(['Sex', 'Pclass'])['Age'].agg(['mean']), 0))"
      ],
      "metadata": {
        "colab": {
          "base_uri": "https://localhost:8080/"
        },
        "id": "93sUWMPd-lX9",
        "outputId": "07068527-ca0b-4782-e403-344987c5f067"
      },
      "execution_count": 9,
      "outputs": [
        {
          "output_type": "stream",
          "name": "stdout",
          "text": [
            "               mean\n",
            "Sex    Pclass      \n",
            "female 1       35.0\n",
            "       2       29.0\n",
            "       3       22.0\n",
            "male   1       41.0\n",
            "       2       31.0\n",
            "       3       27.0\n"
          ]
        }
      ]
    },
    {
      "cell_type": "code",
      "source": [
        "# fills missing values in the \"Age\" column of your dataset with the value -1.\n",
        "dataset[\"Age\"]=dataset[\"Age\"].fillna(-1)\n",
        "# now replacing with the respective mean\n",
        "for data_i in range(dataset.shape[0]):\n",
        "  if(dataset[\"Age\"][data_i]==-1):\n",
        "    if(dataset[\"Sex\"][data_i]==\"female\" and dataset[\"Pclass\"][data_i]==1):\n",
        "      dataset[\"Age\"][data_i]=35\n",
        "    elif(dataset[\"Sex\"][data_i]==\"female\" and dataset[\"Pclass\"][data_i]==2):\n",
        "      dataset[\"Age\"][data_i]=29\n",
        "    elif(dataset[\"Sex\"][data_i]==\"female\" and dataset[\"Pclass\"][data_i]==3):\n",
        "      dataset[\"Age\"][data_i]=22\n",
        "    elif(dataset[\"Sex\"][data_i]==\"male\" and dataset[\"Pclass\"][data_i]==1):\n",
        "      dataset[\"Age\"][data_i]=41\n",
        "    elif(dataset[\"Sex\"][data_i]==\"male\" and dataset[\"Pclass\"][data_i]==2):\n",
        "      dataset[\"Age\"][data_i]=31\n",
        "    elif(dataset[\"Sex\"][data_i]==\"male\" and dataset[\"Pclass\"][data_i]==3):\n",
        "      dataset[\"Age\"][data_i]=27"
      ],
      "metadata": {
        "id": "Oo2FREs-er2S"
      },
      "execution_count": 10,
      "outputs": []
    },
    {
      "cell_type": "code",
      "source": [
        "print(\"Percentage of missing values in feature 'Age': \", str((dataset[\"Age\"].isna().sum())/dataset.shape[0])+\"%\")"
      ],
      "metadata": {
        "colab": {
          "base_uri": "https://localhost:8080/"
        },
        "id": "HG4eVbq-_E5O",
        "outputId": "83fc32f1-9022-4fd5-e092-60ff73bb343c"
      },
      "execution_count": 11,
      "outputs": [
        {
          "output_type": "stream",
          "name": "stdout",
          "text": [
            "Percentage of missing values in feature 'Age':  0.0%\n"
          ]
        }
      ]
    },
    {
      "cell_type": "code",
      "source": [
        "dataset = dataset.drop(columns = [\"Cabin\"])\n"
      ],
      "metadata": {
        "id": "AGR2e4xK_Hmu"
      },
      "execution_count": 12,
      "outputs": []
    },
    {
      "cell_type": "code",
      "source": [
        "print(dataset.columns)"
      ],
      "metadata": {
        "colab": {
          "base_uri": "https://localhost:8080/"
        },
        "id": "Yn1Bo-yF_Lo3",
        "outputId": "8641422d-43ac-4a61-9ab6-f210c384fab4"
      },
      "execution_count": 13,
      "outputs": [
        {
          "output_type": "stream",
          "name": "stdout",
          "text": [
            "Index(['PassengerId', 'Survived', 'Pclass', 'Name', 'Sex', 'Age', 'SibSp',\n",
            "       'Parch', 'Ticket', 'Fare', 'Embarked'],\n",
            "      dtype='object')\n"
          ]
        }
      ]
    },
    {
      "cell_type": "code",
      "source": [
        "dataset.dropna(inplace = True)"
      ],
      "metadata": {
        "id": "9KJZEgOx_N6E"
      },
      "execution_count": 14,
      "outputs": []
    },
    {
      "cell_type": "code",
      "source": [
        "dataset.isna().sum()"
      ],
      "metadata": {
        "colab": {
          "base_uri": "https://localhost:8080/"
        },
        "id": "yTQxWtse_QJh",
        "outputId": "b87a23f1-8ebf-4260-8ce9-a55aabeea2d7"
      },
      "execution_count": 15,
      "outputs": [
        {
          "output_type": "execute_result",
          "data": {
            "text/plain": [
              "PassengerId    0\n",
              "Survived       0\n",
              "Pclass         0\n",
              "Name           0\n",
              "Sex            0\n",
              "Age            0\n",
              "SibSp          0\n",
              "Parch          0\n",
              "Ticket         0\n",
              "Fare           0\n",
              "Embarked       0\n",
              "dtype: int64"
            ]
          },
          "metadata": {},
          "execution_count": 15
        }
      ]
    },
    {
      "cell_type": "code",
      "source": [
        "dataset.drop(columns=[\"Name\",\"PassengerId\",\"Ticket\"],inplace=True)"
      ],
      "metadata": {
        "id": "PsWQYgQ-_TRg"
      },
      "execution_count": 16,
      "outputs": []
    },
    {
      "cell_type": "code",
      "source": [
        "\n",
        "print(dataset.columns)\n"
      ],
      "metadata": {
        "colab": {
          "base_uri": "https://localhost:8080/"
        },
        "id": "8x7YUV0q_WSA",
        "outputId": "f3b4871d-8bd2-4708-821b-e09fc7ce0bd9"
      },
      "execution_count": 18,
      "outputs": [
        {
          "output_type": "stream",
          "name": "stdout",
          "text": [
            "Index(['Survived', 'Pclass', 'Sex', 'Age', 'SibSp', 'Parch', 'Fare',\n",
            "       'Embarked'],\n",
            "      dtype='object')\n"
          ]
        }
      ]
    },
    {
      "cell_type": "code",
      "source": [
        "print(dataset.info)"
      ],
      "metadata": {
        "colab": {
          "base_uri": "https://localhost:8080/"
        },
        "id": "KgU-UKV1_d9k",
        "outputId": "2f7efce0-9b3d-4490-c36b-de10978f8b69"
      },
      "execution_count": 19,
      "outputs": [
        {
          "output_type": "stream",
          "name": "stdout",
          "text": [
            "<bound method DataFrame.info of      Survived  Pclass     Sex   Age  SibSp  Parch     Fare Embarked\n",
            "0           0       3    male  22.0      1      0   7.2500        S\n",
            "1           1       1  female  38.0      1      0  71.2833        C\n",
            "2           1       3  female  26.0      0      0   7.9250        S\n",
            "3           1       1  female  35.0      1      0  53.1000        S\n",
            "4           0       3    male  35.0      0      0   8.0500        S\n",
            "..        ...     ...     ...   ...    ...    ...      ...      ...\n",
            "886         0       2    male  27.0      0      0  13.0000        S\n",
            "887         1       1  female  19.0      0      0  30.0000        S\n",
            "888         0       3  female  22.0      1      2  23.4500        S\n",
            "889         1       1    male  26.0      0      0  30.0000        C\n",
            "890         0       3    male  32.0      0      0   7.7500        Q\n",
            "\n",
            "[889 rows x 8 columns]>\n"
          ]
        }
      ]
    },
    {
      "cell_type": "code",
      "source": [
        "figure, axes = plt.subplots(2, 2, figsize = (12.5, 7.5))\n",
        "figure.suptitle(\"Outliers in Numerical Features\")\n",
        "figure.delaxes(axes[1][1])\n",
        "\n",
        "sns.boxplot(ax = axes[0, 0], data = dataset, x = \"Survived\", y = \"Pclass\", palette = \"bwr\")\n",
        "sns.boxplot(ax = axes[0, 1], data = dataset, x = \"Survived\", y = \"Age\", palette = \"bwr\")\n",
        "sns.boxplot(ax = axes[1, 0], data = dataset, x = \"Survived\", y = \"Fare\", palette = \"bwr\")"
      ],
      "metadata": {
        "colab": {
          "base_uri": "https://localhost:8080/",
          "height": 727
        },
        "id": "3G4bzcZGrXZr",
        "outputId": "6657ab4c-f179-448d-ac30-57cf792b7ae7"
      },
      "execution_count": 20,
      "outputs": [
        {
          "output_type": "execute_result",
          "data": {
            "text/plain": [
              "<Axes: xlabel='Survived', ylabel='Fare'>"
            ]
          },
          "metadata": {},
          "execution_count": 20
        },
        {
          "output_type": "display_data",
          "data": {
            "text/plain": [
              "<Figure size 1250x750 with 3 Axes>"
            ],
            "image/png": "[encoded data removed]"
          },
          "metadata": {}
        }
      ]
    },
    {
      "cell_type": "code",
      "source": [
        "dataset.info()"
      ],
      "metadata": {
        "colab": {
          "base_uri": "https://localhost:8080/"
        },
        "id": "-LF9eGm2_9Mq",
        "outputId": "af60ee4d-13b8-4d1a-eb26-305e8f13093d"
      },
      "execution_count": 21,
      "outputs": [
        {
          "output_type": "stream",
          "name": "stdout",
          "text": [
            "<class 'pandas.core.frame.DataFrame'>\n",
            "Int64Index: 889 entries, 0 to 890\n",
            "Data columns (total 8 columns):\n",
            " #   Column    Non-Null Count  Dtype  \n",
            "---  ------    --------------  -----  \n",
            " 0   Survived  889 non-null    int64  \n",
            " 1   Pclass    889 non-null    int64  \n",
            " 2   Sex       889 non-null    object \n",
            " 3   Age       889 non-null    float64\n",
            " 4   SibSp     889 non-null    int64  \n",
            " 5   Parch     889 non-null    int64  \n",
            " 6   Fare      889 non-null    float64\n",
            " 7   Embarked  889 non-null    object \n",
            "dtypes: float64(2), int64(4), object(2)\n",
            "memory usage: 62.5+ KB\n"
          ]
        }
      ]
    },
    {
      "cell_type": "code",
      "source": [
        "print(\"descrete Pclass:\",dataset[\"Pclass\"].unique())"
      ],
      "metadata": {
        "colab": {
          "base_uri": "https://localhost:8080/"
        },
        "id": "l4c6b2LtAEsp",
        "outputId": "9e24e56a-ebd4-409a-da84-b1e00d1ca2ab"
      },
      "execution_count": 22,
      "outputs": [
        {
          "output_type": "stream",
          "name": "stdout",
          "text": [
            "descrete Pclass: [3 1 2]\n"
          ]
        }
      ]
    },
    {
      "cell_type": "code",
      "source": [
        "dataset[\"Sex\"].replace(\"female\",0,inplace=True)\n",
        "dataset[\"Sex\"].replace(\"male\",1,inplace=True)\n",
        "print(\"after encoding:\\n\",dataset[\"Sex\"][0:5])"
      ],
      "metadata": {
        "colab": {
          "base_uri": "https://localhost:8080/"
        },
        "id": "cH3cevu3AHc7",
        "outputId": "b500eec1-c2fa-43ac-e3e1-7d392eb309e5"
      },
      "execution_count": 24,
      "outputs": [
        {
          "output_type": "stream",
          "name": "stdout",
          "text": [
            "after encoding:\n",
            " 0    1\n",
            "1    0\n",
            "2    0\n",
            "3    0\n",
            "4    1\n",
            "Name: Sex, dtype: int64\n"
          ]
        }
      ]
    },
    {
      "cell_type": "code",
      "source": [
        "print(\"unique values in embarked:\\n\",dataset[\"Embarked\"].unique())"
      ],
      "metadata": {
        "colab": {
          "base_uri": "https://localhost:8080/"
        },
        "id": "QL6ZYPXlANKi",
        "outputId": "9ecf7fc5-04fb-4401-c51c-67f8c92325fd"
      },
      "execution_count": 25,
      "outputs": [
        {
          "output_type": "stream",
          "name": "stdout",
          "text": [
            "unique values in embarked:\n",
            " ['S' 'C' 'Q']\n"
          ]
        }
      ]
    },
    {
      "cell_type": "code",
      "source": [
        "def encode_embark(column):\n",
        "  for d in column:\n",
        "    if d=='S':\n",
        "      column[column.index(d)]=0\n",
        "    elif d=='C':\n",
        "      column[column.index(d)]=1\n",
        "    elif d=='Q':\n",
        "      column[column.index(d)]=2\n",
        "  return column"
      ],
      "metadata": {
        "id": "f3_dwDw3ANyb"
      },
      "execution_count": 26,
      "outputs": []
    },
    {
      "cell_type": "code",
      "source": [
        "dataset[\"Embarked\"]=encode_embark(list(dataset[\"Embarked\"]))\n",
        "print(\"new embarked:\\n\",dataset[\"Embarked\"][0:5])"
      ],
      "metadata": {
        "colab": {
          "base_uri": "https://localhost:8080/"
        },
        "id": "Fc7BEFpUAQcL",
        "outputId": "43e34245-2ea0-4564-bb56-fd7f30fe7d2f"
      },
      "execution_count": 27,
      "outputs": [
        {
          "output_type": "stream",
          "name": "stdout",
          "text": [
            "new embarked:\n",
            " 0    0\n",
            "1    1\n",
            "2    0\n",
            "3    0\n",
            "4    0\n",
            "Name: Embarked, dtype: int64\n"
          ]
        }
      ]
    },
    {
      "cell_type": "code",
      "source": [
        "figure, axes = plt.subplots(2, 3, figsize = (17.5, 10))\n",
        "figure.delaxes(axes[1][2])\n",
        "figure.suptitle(\"Feature Target Dependence\")\n",
        "\n",
        "#island\n",
        "sns.stripplot(ax = axes[0, 0], data = dataset, x = \"Survived\", y = \"Pclass\", palette = \"bwr\")\n",
        "sns.stripplot(ax = axes[0, 1], data = dataset, x = \"Survived\", y = \"Sex\", palette = \"bwr\")\n",
        "sns.stripplot(ax = axes[0, 2], data = dataset, x = \"Survived\", y = \"Age\", palette = \"bwr\")\n",
        "sns.stripplot(ax = axes[1, 0], data = dataset, x = \"Survived\", y = \"Fare\", palette = \"bwr\")\n",
        "sns.stripplot(ax = axes[1, 1], data = dataset, x = \"Survived\", y = \"Embarked\", palette = \"bwr\")"
      ],
      "metadata": {
        "colab": {
          "base_uri": "https://localhost:8080/",
          "height": 694
        },
        "id": "1Ifv9X_0ASsH",
        "outputId": "cb04ac41-e7a3-4b1b-9268-977120994d29"
      },
      "execution_count": 28,
      "outputs": [
        {
          "output_type": "execute_result",
          "data": {
            "text/plain": [
              "<Axes: xlabel='Survived', ylabel='Embarked'>"
            ]
          },
          "metadata": {},
          "execution_count": 28
        },
        {
          "output_type": "display_data",
          "data": {
            "text/plain": [
              "<Figure size 1750x1000 with 5 Axes>"
            ],
            "image/png": "[encoded data removed]"
          },
          "metadata": {}
        }
      ]
    },
    {
      "cell_type": "code",
      "source": [
        "# Feature and target split\n",
        "X = dataset.drop(columns=[\"Survived\"])\n",
        "y = dataset[\"Survived\"]\n",
        "\n",
        "# Display the first 5 rows of features and target\n",
        "print(\"Features:\", \"\\n\", X.head())\n",
        "print(\"Target:\", \"\\n\", y.head())"
      ],
      "metadata": {
        "colab": {
          "base_uri": "https://localhost:8080/"
        },
        "id": "KlQZWlU_A3Sn",
        "outputId": "bc6ce163-7d81-496a-8fff-8892557c8c57"
      },
      "execution_count": 29,
      "outputs": [
        {
          "output_type": "stream",
          "name": "stdout",
          "text": [
            "Features: \n",
            "    Pclass  Sex   Age  SibSp  Parch     Fare  Embarked\n",
            "0       3    1  22.0      1      0   7.2500         0\n",
            "1       1    0  38.0      1      0  71.2833         1\n",
            "2       3    0  26.0      0      0   7.9250         0\n",
            "3       1    0  35.0      1      0  53.1000         0\n",
            "4       3    1  35.0      0      0   8.0500         0\n",
            "Target: \n",
            " 0    0\n",
            "1    1\n",
            "2    1\n",
            "3    1\n",
            "4    0\n",
            "Name: Survived, dtype: int64\n"
          ]
        }
      ]
    },
    {
      "cell_type": "code",
      "source": [
        "\n",
        "# Set the seed for reproducibility\n",
        "import random\n",
        "random.seed(13)\n",
        "\n",
        "# Determine the sizes of the training, validation, and test sets\n",
        "train_size = 0.7\n",
        "val_size = 0.2\n",
        "test_size = 0.1\n",
        "\n",
        "# Determine the number of rows for each set\n",
        "num_rows = len(X)\n",
        "num_train = int(train_size * num_rows)\n",
        "num_val = int(val_size * num_rows)\n",
        "\n",
        "# Create a list of indices and shuffle it\n",
        "indices = list(range(num_rows))\n",
        "random.shuffle(indices)\n",
        "\n",
        "# Split the indices into training, validation, and test sets\n",
        "train_indices = indices[:num_train]\n",
        "val_indices = indices[num_train:(num_train + num_val)]\n",
        "test_indices = indices[(num_train + num_val):]\n",
        "\n",
        "# Create the training, validation, and test sets\n",
        "X_train, y_train = X.iloc[train_indices], y.iloc[train_indices]\n",
        "X_val, y_val = X.iloc[val_indices], y.iloc[val_indices]\n",
        "X_test, y_test = X.iloc[test_indices], y.iloc[test_indices]\n",
        "\n",
        "# Check the shape of the splits\n",
        "print(\"Shape of X_train:\", X_train.shape)\n",
        "print(\"Shape of y_train:\", y_train.shape)\n",
        "print(\"Shape of X_val:\", X_val.shape)\n",
        "print(\"Shape of y_val:\", y_val.shape)\n",
        "print(\"Shape of X_test:\", X_test.shape)\n",
        "print(\"Shape of y_test:\", y_test.shape)\n",
        "\n"
      ],
      "metadata": {
        "colab": {
          "base_uri": "https://localhost:8080/"
        },
        "id": "Fmb0pePKA3jz",
        "outputId": "996584ee-ed6f-47d3-e63b-29bb0d3dc33e"
      },
      "execution_count": 30,
      "outputs": [
        {
          "output_type": "stream",
          "name": "stdout",
          "text": [
            "Shape of X_train: (622, 7)\n",
            "Shape of y_train: (622,)\n",
            "Shape of X_val: (177, 7)\n",
            "Shape of y_val: (177,)\n",
            "Shape of X_test: (90, 7)\n",
            "Shape of y_test: (90,)\n"
          ]
        }
      ]
    },
    {
      "cell_type": "code",
      "source": [
        "def calculate_entropy(labels):\n",
        "    unique_labels, label_counts = np.unique(labels, return_counts=True)\n",
        "    probabilities = label_counts / len(labels)\n",
        "    entropy = -np.sum(probabilities * np.log2(probabilities + 1e-10))  # Add a small value to avoid log(0)\n",
        "    return entropy\n",
        "def calculate_information_gain_at_split(parent_labels, split_data, split_point):\n",
        "    weighted_child_entropy = 0.0\n",
        "\n",
        "    for child_labels in split_data:\n",
        "        child_entropy = calculate_entropy(child_labels)\n",
        "        child_weight = len(child_labels) / len(parent_labels)\n",
        "        weighted_child_entropy += child_weight * child_entropy\n",
        "\n",
        "    information_gain = calculate_entropy(parent_labels) - weighted_child_entropy\n",
        "    return information_gain"
      ],
      "metadata": {
        "id": "osVEJYnLBBJE"
      },
      "execution_count": 31,
      "outputs": []
    },
    {
      "cell_type": "code",
      "source": [
        "def find_best_split_for_column(features, target, column):\n",
        "    unique_values = np.unique(features[column])\n",
        "    best_information_gain = -1\n",
        "    best_split_point = None\n",
        "\n",
        "    if features[column].dtype in [np.float64, np.int64]:\n",
        "        unique_values = np.sort(unique_values)\n",
        "        split_points = (unique_values[1:] + unique_values[:-1]) / 2.0\n",
        "    else:\n",
        "        split_points = unique_values\n",
        "\n",
        "    for split_point in split_points:\n",
        "        split_data = [target[features[column] <= split_point], target[features[column] > split_point]]\n",
        "        information_gain = calculate_information_gain_at_split(target, split_data, split_point)\n",
        "\n",
        "        if information_gain > best_information_gain:\n",
        "            best_information_gain = information_gain\n",
        "            best_split_point = split_point\n",
        "\n",
        "    return best_information_gain, best_split_point\n",
        "def find_best_split(features, target, columns):\n",
        "  best_splits = {}\n",
        "\n",
        "  for column in columns:\n",
        "      information_gain, split_point = find_best_split_for_column(features, target, column)\n",
        "\n",
        "      best_splits[information_gain] = {'column': column, 'split_point': split_point}\n",
        "\n",
        "  return best_splits"
      ],
      "metadata": {
        "id": "u_tfuGRmBCPS"
      },
      "execution_count": 32,
      "outputs": []
    },
    {
      "cell_type": "code",
      "source": [
        "from sklearn.metrics import accuracy_score, confusion_matrix, precision_recall_fscore_support\n",
        "selected_columns = ['Pclass', 'Embarked', 'Sex']\n",
        "\n",
        "# Split the dataset based on the specified columns\n",
        "best_splits = find_best_split(dataset, dataset['Survived'], selected_columns)\n",
        "\n",
        "print(\"Best Splits\")\n",
        "for gain, details in best_splits.items():\n",
        "    print(f\"{details['column']}, Information Gain: {gain}, Split Point: {details['split_point']}\")\n"
      ],
      "metadata": {
        "colab": {
          "base_uri": "https://localhost:8080/"
        },
        "id": "NVy5C0IvBGCZ",
        "outputId": "dd798ba4-78f6-4742-8c4a-a9071f945abe"
      },
      "execution_count": 33,
      "outputs": [
        {
          "output_type": "stream",
          "name": "stdout",
          "text": [
            "Best Splits\n",
            "Pclass, Information Gain: 0.07475333655808336, Split Point: 2.5\n",
            "Embarked, Information Gain: 0.016352257508829737, Split Point: 0.5\n",
            "Sex, Information Gain: 0.21600805853994387, Split Point: 0.5\n"
          ]
        }
      ]
    },
    {
      "cell_type": "code",
      "source": [
        "def find_best_split_uv(features, target, column, unique_values):\n",
        "    best_information_gain = -1\n",
        "    best_split_point = None\n",
        "\n",
        "    for value in unique_values:\n",
        "        split_data = [target[features[column] == value], target[features[column] != value]]\n",
        "        information_gain = calculate_information_gain_at_split(target, split_data, value)\n",
        "\n",
        "        if information_gain > best_information_gain:\n",
        "            best_information_gain = information_gain\n",
        "            best_split_point = value\n",
        "\n",
        "    return best_information_gain, best_split_point\n",
        "def conTocat(features, target, column):\n",
        "    unique_values = np.unique(features[column])\n",
        "\n",
        "    # For continuous variables, convert to categorical and find best split point\n",
        "    if features[column].dtype in [np.float64, np.int64]:\n",
        "        unique_values = np.sort(unique_values)\n",
        "        split_points = (unique_values[1:] + unique_values[:-1]) / 2.0\n",
        "        best_information_gain = -1\n",
        "        best_split_point = None\n",
        "\n",
        "        for split_point in split_points:\n",
        "            split_data = [target[features[column] <= split_point],\n",
        "                          target[features[column] > split_point]]\n",
        "            information_gain = calculate_information_gain_at_split(target, split_data, split_point)\n",
        "\n",
        "            if information_gain > best_information_gain:\n",
        "                best_information_gain = information_gain\n",
        "                best_split_point = split_point\n",
        "\n",
        "    # For categorical variables, use the original unique values\n",
        "    else:\n",
        "        best_information_gain, best_split_point = find_best_split_uv(features, target, column, unique_values)\n",
        "\n",
        "    return best_information_gain, best_split_point"
      ],
      "metadata": {
        "id": "EwPgtJ2gBIpY"
      },
      "execution_count": 34,
      "outputs": []
    },
    {
      "cell_type": "code",
      "source": [
        "selected_continuous_columns = ['Fare', 'Age', 'SibSp', 'Parch']\n",
        "for column in selected_continuous_columns:\n",
        "    information_gain, split_point = conTocat(dataset, dataset['Survived'], column)\n",
        "\n",
        "    # Store the information gain, column name, and split point in the dictionary\n",
        "    best_splits[information_gain] = {'column': column, 'split_point': split_point}\n",
        "\n",
        "# Print the updated Best Splits dictionary\n",
        "print(\"Updated Best Splits:\")\n",
        "for gain, details in best_splits.items():\n",
        "    print(f\"{details['column']}, Info Gain(IG): {gain}, Split Point: {details['split_point']}\")"
      ],
      "metadata": {
        "colab": {
          "base_uri": "https://localhost:8080/"
        },
        "id": "ifs82EZLBL5A",
        "outputId": "63edab1e-faa5-46b1-e1fa-ab938d605008"
      },
      "execution_count": 35,
      "outputs": [
        {
          "output_type": "stream",
          "name": "stdout",
          "text": [
            "Updated Best Splits:\n",
            "Pclass, Info Gain(IG): 0.07475333655808336, Split Point: 2.5\n",
            "Embarked, Info Gain(IG): 0.016352257508829737, Split Point: 0.5\n",
            "Sex, Info Gain(IG): 0.21600805853994387, Split Point: 0.5\n",
            "Fare, Info Gain(IG): 0.06762493505811928, Split Point: 10.48125\n",
            "Age, Info Gain(IG): 0.01689640772088996, Split Point: 6.5\n",
            "SibSp, Info Gain(IG): 0.01025842705415081, Split Point: 3.5\n",
            "Parch, Info Gain(IG): 0.015777560712624927, Split Point: 0.5\n"
          ]
        }
      ]
    },
    {
      "cell_type": "code",
      "source": [
        "def train_decision_tree(features, target, max_depth=None, current_depth=0):\n",
        "    if max_depth is not None and current_depth >= max_depth:\n",
        "        # If reached max depth, return the majority class as the leaf value\n",
        "        return {'class': target.mode().iloc[0]} if not target.empty else {'class': None}\n",
        "\n",
        "    best_splits = find_best_split(features, target, features.columns)\n",
        "\n",
        "    if not best_splits or target.empty:\n",
        "        # If no splits are possible or target is empty, return the majority class as the leaf value\n",
        "        return {'class': target.mode().iloc[0]} if not target.empty else {'class': None}\n",
        "\n",
        "    # Call conTocat to add values to best_splits\n",
        "    for information_gain, details in best_splits.items():\n",
        "        column = details['column']\n",
        "        values = conTocat(features, target, column)\n",
        "        details['values'] = values\n",
        "\n",
        "    # Get the best split based on information gain\n",
        "    best_split_gain = max(best_splits.keys())\n",
        "    best_split_info = best_splits[best_split_gain]\n",
        "\n",
        "    # Apply the split to the dataset\n",
        "    split_column = best_split_info['column']\n",
        "    split_point = best_split_info['split_point']\n",
        "\n",
        "    if features[split_column].dtype in [np.float64, np.int64]:\n",
        "        left_condition = features[split_column] <= split_point\n",
        "        right_condition = features[split_column] > split_point\n",
        "    else:\n",
        "        left_condition = features[split_column] <= split_point\n",
        "        right_condition = features[split_column] > split_point\n",
        "\n",
        "    # Filter the dataset based on the split condition\n",
        "    left_features = features.loc[left_condition]\n",
        "    left_target = target.loc[left_condition]\n",
        "\n",
        "    right_features = features.loc[right_condition]\n",
        "    right_target = target.loc[right_condition]\n",
        "\n",
        "    # Recursively build the decision tree for each branch\n",
        "    left_branch = train_decision_tree(left_features, left_target, max_depth, current_depth + 1)\n",
        "\n",
        "    right_branch = train_decision_tree(right_features, right_target, max_depth, current_depth + 1)\n",
        "\n",
        "    return {'column': split_column, 'split_point': split_point,\n",
        "            'left_branch': left_branch, 'right_branch': right_branch}"
      ],
      "metadata": {
        "id": "bs0NRo9XBOyc"
      },
      "execution_count": 36,
      "outputs": []
    },
    {
      "cell_type": "code",
      "source": [
        "\n",
        "tree = train_decision_tree(X, y, max_depth=3)\n",
        "print(tree)"
      ],
      "metadata": {
        "colab": {
          "base_uri": "https://localhost:8080/"
        },
        "id": "1qzFERqxBRr5",
        "outputId": "5724ab18-1328-4903-e338-4d89c60e0a5b"
      },
      "execution_count": 38,
      "outputs": [
        {
          "output_type": "stream",
          "name": "stdout",
          "text": [
            "{'column': 'Sex', 'split_point': 0.5, 'left_branch': {'column': 'Pclass', 'split_point': 2.5, 'left_branch': {'column': 'Fare', 'split_point': 28.85625, 'left_branch': {'class': 1}, 'right_branch': {'class': 1}}, 'right_branch': {'column': 'Fare', 'split_point': 23.35, 'left_branch': {'class': 1}, 'right_branch': {'class': 0}}}, 'right_branch': {'column': 'Fare', 'split_point': 26.26875, 'left_branch': {'column': 'Age', 'split_point': 13.5, 'left_branch': {'class': 1}, 'right_branch': {'class': 0}}, 'right_branch': {'column': 'SibSp', 'split_point': 2.5, 'left_branch': {'class': 0}, 'right_branch': {'class': 0}}}}\n"
          ]
        }
      ]
    },
    {
      "cell_type": "code",
      "source": [
        "def infer(sample_df, decision_tree):\n",
        "    if 'left_branch' not in decision_tree or 'right_branch' not in decision_tree:\n",
        "        # If it's a leaf node, return the predicted class if available\n",
        "        return decision_tree.get('class', None)\n",
        "\n",
        "    split_column = decision_tree['column']\n",
        "    split_point = decision_tree['split_point']\n",
        "\n",
        "\n",
        "    if split_column in decision_tree.get('values', {}):\n",
        "        sample_value = sample_df[split_column].iloc[0]\n",
        "        return infer(sample_df, decision_tree['left_branch']) if sample_value <= split_point else infer(sample_df, decision_tree['right_branch'])\n",
        "    else:\n",
        "        sample_value = sample_df[split_column].iloc[0]\n",
        "        return infer(sample_df, decision_tree['left_branch']) if sample_value <= split_point else infer(sample_df, decision_tree['right_branch'])"
      ],
      "metadata": {
        "id": "L_POeZM5Bcdx"
      },
      "execution_count": 39,
      "outputs": []
    },
    {
      "cell_type": "markdown",
      "source": [
        "TESTING"
      ],
      "metadata": {
        "id": "uuQXUsLlBioN"
      }
    },
    {
      "cell_type": "code",
      "source": [
        "sample_df = pd.DataFrame({'Pclass': [1], 'Sex': [0], 'Age': [18.0], 'SibSp': [1], 'Parch': [0], 'Fare': [20.00], 'Embarked': [1]})\n",
        "\n",
        "prediction = infer(sample_df, tree)\n",
        "\n",
        "if prediction is not None:\n",
        "    if prediction == 0:\n",
        "        print(\"Not Survived\")\n",
        "    elif prediction == 1:\n",
        "        print(\"Survived\")\n",
        "    else:\n",
        "        print(\"Invalid prediction value\")\n",
        "else:\n",
        "    print(\"Unable to make a prediction\")\n",
        "\n"
      ],
      "metadata": {
        "colab": {
          "base_uri": "https://localhost:8080/"
        },
        "id": "AHqGK0eSBegr",
        "outputId": "93e9db14-684e-4fea-f4a7-cb6daaa54455"
      },
      "execution_count": 40,
      "outputs": [
        {
          "output_type": "stream",
          "name": "stdout",
          "text": [
            "Survived\n"
          ]
        }
      ]
    },
    {
      "cell_type": "code",
      "source": [
        "def predict(tree, features):\n",
        "    if 'class' in tree:\n",
        "        return tree['class']\n",
        "\n",
        "    column = tree['column']\n",
        "    split_point = tree['split_point']\n",
        "\n",
        "    if features[column].dtype in [np.float64, np.int64]:\n",
        "        condition = features[column] <= split_point\n",
        "    else:\n",
        "        condition = features[column] == split_point\n",
        "\n",
        "    if condition:\n",
        "        return predict(tree['left_branch'], features)\n",
        "    else:\n",
        "        return predict(tree['right_branch'], features)\n",
        "\n"
      ],
      "metadata": {
        "id": "6TN0rWOtBk75"
      },
      "execution_count": 41,
      "outputs": []
    },
    {
      "cell_type": "code",
      "source": [
        "def compute_metrics(tree, features, target):\n",
        "    predictions = features.apply(lambda x: predict(tree, x), axis=1)\n",
        "    accuracy = accuracy_score(target, predictions)\n",
        "    confusion_mat = confusion_matrix(target, predictions)\n",
        "    precision, recall, f1, _ = precision_recall_fscore_support(target, predictions, average='binary')\n",
        "\n",
        "    return accuracy, confusion_mat, precision, recall, f1\n",
        "\n"
      ],
      "metadata": {
        "id": "EXe3tM8UBnd4"
      },
      "execution_count": 43,
      "outputs": []
    },
    {
      "cell_type": "code",
      "source": [
        "train_accuracy, train_confusion, train_precision, train_recall, train_f1 = compute_metrics(tree, X_train, y_train)\n",
        "test_accuracy, test_confusion, test_precision, test_recall, test_f1 = compute_metrics(tree, X_test, y_test)\n",
        "\n"
      ],
      "metadata": {
        "id": "h5faoS_2BtNi"
      },
      "execution_count": 44,
      "outputs": []
    },
    {
      "cell_type": "code",
      "source": [
        "# Task-7: Show Confusion Matrix\n",
        "print(\"\\nConfusion Matrix (Test Data):\")\n",
        "print(test_confusion)\n",
        "# Task-6: Compute Accuracy\n",
        "print(\"Train Accuracy:\", train_accuracy*100,\"%\")\n",
        "print(\"Test Accuracy:\", test_accuracy*100,\"%\")\n"
      ],
      "metadata": {
        "colab": {
          "base_uri": "https://localhost:8080/"
        },
        "id": "gAB7Jr7qBtv1",
        "outputId": "e6aad40a-27bb-471b-d06b-e4667dd6c3ae"
      },
      "execution_count": 45,
      "outputs": [
        {
          "output_type": "stream",
          "name": "stdout",
          "text": [
            "\n",
            "Confusion Matrix (Test Data):\n",
            "[[50  9]\n",
            " [ 9 22]]\n",
            "Train Accuracy: 81.51125401929261 %\n",
            "Test Accuracy: 80.0 %\n"
          ]
        }
      ]
    },
    {
      "cell_type": "code",
      "source": [
        "# Task-8: Compute Precision, Recall, F1-score\n",
        "print(\"\\nPrecision, Recall, F1-score (Test Data):\")\n",
        "print(\"Precision:\", test_precision)\n",
        "print(\"Recall:\", test_recall)\n",
        "print(\"F1-score:\", test_f1)"
      ],
      "metadata": {
        "colab": {
          "base_uri": "https://localhost:8080/"
        },
        "id": "_hmVbSajBv_Q",
        "outputId": "044e9e45-2411-41e2-deaa-ca5fb3b8d260"
      },
      "execution_count": 46,
      "outputs": [
        {
          "output_type": "stream",
          "name": "stdout",
          "text": [
            "\n",
            "Precision, Recall, F1-score (Test Data):\n",
            "Precision: 0.7096774193548387\n",
            "Recall: 0.7096774193548387\n",
            "F1-score: 0.7096774193548389\n"
          ]
        }
      ]
    },
    {
      "cell_type": "markdown",
      "source": [
        "IMPLEMENTING DECISION TREE USING SKLEARN LIBRARY"
      ],
      "metadata": {
        "id": "DJ1NUd27DLOg"
      }
    },
    {
      "cell_type": "code",
      "source": [
        "from sklearn.tree import DecisionTreeClassifier\n",
        "from sklearn.metrics import accuracy_score\n",
        "\n",
        "# Define the Decision Tree classifier\n",
        "# You can adjust max_depth as needed to improve your model's performance\n",
        "decision_tree_model = DecisionTreeClassifier(max_depth=5, random_state=13)\n",
        "\n",
        "# Train the model on the training set\n",
        "decision_tree_model.fit(X_train, y_train)\n",
        "\n",
        "# Make predictions on the validation set\n",
        "y_val_pred = decision_tree_model.predict(X_val)\n",
        "\n",
        "# Calculate accuracy on the validation set\n",
        "val_accuracy = accuracy_score(y_val, y_val_pred)\n",
        "\n",
        "# Optionally, you can also evaluate the model on the training set to check for overfitting\n",
        "y_train_pred = decision_tree_model.predict(X_train)\n",
        "train_accuracy = accuracy_score(y_train, y_train_pred)\n",
        "\n",
        "# Print out the accuracy\n",
        "print(\"Training Accuracy:\", train_accuracy)\n",
        "print(\"Validation Accuracy:\", val_accuracy)\n",
        "\n",
        "# Note: To get a better estimate of the model's performance, consider using cross-validation.\n"
      ],
      "metadata": {
        "colab": {
          "base_uri": "https://localhost:8080/"
        },
        "id": "Ngm_CoyRC26j",
        "outputId": "d9b77fe5-f92f-4f66-a0b6-1ea0ac735961"
      },
      "execution_count": 51,
      "outputs": [
        {
          "output_type": "stream",
          "name": "stdout",
          "text": [
            "Training Accuracy: 0.8681672025723473\n",
            "Validation Accuracy: 0.8022598870056498\n"
          ]
        }
      ]
    }
  ]
}